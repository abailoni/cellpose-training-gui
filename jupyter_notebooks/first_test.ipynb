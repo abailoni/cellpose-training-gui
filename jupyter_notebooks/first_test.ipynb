{
 "cells": [
  {
   "cell_type": "markdown",
   "metadata": {},
   "source": [
    "# Creating manual annotations and training Cellpose\n",
    "*General tip 1*: Whenever you modify anything in this notebook, do not forget to click on the save button. In this way, all changes will be saved and you will be able to continue working on your project later on.\n",
    "\n",
    "*General tip 2*: To run a part of this notebook, you should first click on a section/cell (after selecting it, you should see a blue bar on the left side) and then click the Play button above (alternatively, press *Shift+Enter*). After running a cell, the next one will be automatically selected."
   ]
  },
  {
   "cell_type": "markdown",
   "metadata": {},
   "source": [
    "## 1) Select project directory\n",
    "Here you have two options:\n",
    "\n",
    "- If you are *starting a new project*, select an empty folder: all generated data and labels will be saved in this folder.\n",
    "- If you want to *keep working with an exhisting project*, then select the previous project folder: pre-existing data will be automatically loaded.\n",
    "\n",
    "To get the path of the selected project directory, you can click on the \"Browse...\" button below. Then you will be able to copy the displayed path in the code-cell below (see comments below)."
   ]
  },
  {
   "cell_type": "code",
   "execution_count": 2,
   "metadata": {
    "jupyter": {
     "source_hidden": true
    },
    "tags": []
   },
   "outputs": [
    {
     "data": {
      "application/vnd.jupyter.widget-view+json": {
       "model_id": "0459e1df40a943e4b299bacc9b29d0d2",
       "version_major": 2,
       "version_minor": 0
      },
      "text/plain": [
       "VBox(children=(HBox(children=(Label(value='Click to select a project directory: '), Button(description='Browse…"
      ]
     },
     "metadata": {},
     "output_type": "display_data"
    }
   ],
   "source": [
    "%load_ext autoreload\n",
    "%autoreload 2\n",
    "\n",
    "import os\n",
    "import ipywidgets as widgets\n",
    "from ipywidgets import Button\n",
    "from tkinter import Tk, filedialog\n",
    "from IPython.display import clear_output, display\n",
    "\n",
    "selected_directory = widgets.Label(value=\"\")\n",
    "\n",
    "\n",
    "def select_proj_dir(b):\n",
    "    clear_output()\n",
    "    root = Tk()\n",
    "    root.withdraw()  # Hide the main window.\n",
    "    root.call('wm', 'attributes', '.', '-topmost', True)  # Raise the root to the top of all windows.\n",
    "    b.directory = filedialog.askdirectory()\n",
    "    # b.files = filedialog.askopenfilename(multiple=True) # List of selected files will be set button's file attribute.\n",
    "    selected_directory.value = \"Copy this path below: \\\"{}\\\"\".format(b.directory)\n",
    "    # with out_proj_dir:        \n",
    "    #     print(\"Selected project directory: {}\".format(b.directory))\n",
    "\n",
    "\n",
    "fileselect = Button(description=\"Browse...\")\n",
    "fileselect.on_click(select_proj_dir)\n",
    "\n",
    "widgets.VBox(\n",
    "    [widgets.HBox([widgets.Label(value=\"Click to select a project directory: \"), fileselect]), selected_directory])"
   ]
  },
  {
   "cell_type": "code",
   "execution_count": 3,
   "metadata": {
    "tags": []
   },
   "outputs": [],
   "source": [
    "# !!! Do not forget to re-run this cell and the following one every time you change any path !!!\n",
    "\n",
    "# --------------------  TO BE FILLED BY USER - START  -----------------------------\n",
    "\n",
    "# Insert path to project directory here:\n",
    "project_directory = \"/Users/alberto-mac/EMBL_ATeam/cellpose_training_pipeline/test_project\"  # For example: \"/home/my_home/data/my_first_project\"\n",
    "\n",
    "# ---------------------  TO BE FILLED BY USER - END  ------------------------------"
   ]
  },
  {
   "cell_type": "code",
   "execution_count": 4,
   "metadata": {
    "jupyter": {
     "source_hidden": true
    },
    "tags": []
   },
   "outputs": [],
   "source": [
    "# Validate project directory:\n",
    "assert os.path.isdir(project_directory), \"The selected proj dir '{}' is not a directory!\"\n",
    "\n",
    "# TODO: load data from directory and list crops"
   ]
  },
  {
   "cell_type": "markdown",
   "metadata": {},
   "source": [
    "Explain: current crops are listed above"
   ]
  },
  {
   "cell_type": "markdown",
   "metadata": {},
   "source": [
    "## 2) Select regions of interest to be annotated\n",
    "**Important**: You only need to run section (2) of the notebook if you want to *add* or *modify* regions of interest. If you have already selected all the region of interests you need, then you can move on to section 3.\n",
    "\n",
    "In this section, you will load an image and then select one or more region of interests (rectangular boxes) that you will manually annotate in the following and will be used to train the segmentation algorithm. \n",
    "\n",
    "### Things to keep in mind when selecting region of interest\n",
    "- When you select a region of interest, keep in mind that **you will need to manually annotate all cells inside that region of interest**. Each region of interest should contain **at least several dozens of cells, ideally ~100**.\n",
    "- These region of interests will be used to train the segmentation algorithm, so you should select the most representative parts of your data. If there are some particularly challenging parts of your data the you would like the segmentation algorithm to properly segment, then you should also select some regions of interest from these difficult parts. \n",
    "\n",
    "Here you have some example scenarios:\n",
    "1. Your images/datasets present several artifacts close to the borders, but you only care to have an accurate segmentation in the central part of the image, where image quality is higher and there are no artifacts. In this case, you can select regions of interest only from the central area of your image.\n",
    "2. Your images/datasets present several artifacts in all parts of the image, and you would like cells to be properly segmented even in parts of the image where these artifacts are present. Then, you should also include regions of interest where some of the artifacts are visible (on top of region of interests that are easier to segment)\n",
    "3. You acquired several images that look somehow different (different acquisition method, brightness, etc). Then, you should evenly select regions of interest across all your images/datasets."
   ]
  },
  {
   "cell_type": "markdown",
   "metadata": {},
   "source": [
    "### 2.1) Load the image"
   ]
  },
  {
   "cell_type": "markdown",
   "metadata": {},
   "source": [
    "#### Option 1: Add/modify crops from a previously loaded image\n",
    "From the Drop-list menu below, select the image you want to work with. Then, go to step 2.2."
   ]
  },
  {
   "cell_type": "markdown",
   "metadata": {},
   "source": [
    "#### Option 2: Add crops for a new image"
   ]
  },
  {
   "cell_type": "code",
   "execution_count": 4,
   "metadata": {
    "jupyter": {
     "source_hidden": true
    },
    "tags": []
   },
   "outputs": [
    {
     "data": {
      "application/vnd.jupyter.widget-view+json": {
       "model_id": "2a0acdb655974a8a8290212dcde22d73",
       "version_major": 2,
       "version_minor": 0
      },
      "text/plain": [
       "VBox(children=(HBox(children=(Label(value='To get the path of an image, you can click on this button: '), Butt…"
      ]
     },
     "metadata": {},
     "output_type": "display_data"
    }
   ],
   "source": [
    "selected_file = widgets.Label(value=\"\")\n",
    "\n",
    "\n",
    "def select_file(b):\n",
    "    clear_output()\n",
    "    root = Tk()\n",
    "    root.withdraw()  # Hide the main window.\n",
    "    root.call('wm', 'attributes', '.', '-topmost', True)  # Raise the root to the top of all windows.\n",
    "    b.file = filedialog.askopenfilename()  # List of selected files will be set button's file attribute.\n",
    "    selected_file.value = \"Copy selected path below: \\\"{}\\\" \".format(b.file)\n",
    "\n",
    "\n",
    "fileselect = Button(description=\"Browse files...\")\n",
    "fileselect.on_click(select_file)\n",
    "\n",
    "widgets.VBox([widgets.HBox([widgets.Label(value=\"To get the path of an image, you can click on this button: \"), fileselect]), selected_file])"
   ]
  },
  {
   "cell_type": "markdown",
   "metadata": {},
   "source": [
    "Please fill the code section below with the paths of the following images:\n",
    "\n",
    "- Main image that should be segmented: this is usually the bright-field or GFP channel\n",
    "- Optional: image with DAPI channel (if you have it, then add it, because it can be very useful for the segmentation algorithm)\n",
    "\n",
    "If you have additional channels that may helpful for doing a precise manual annotation, you can load two additional channels... TODO break code in several blocks..."
   ]
  },
  {
   "cell_type": "code",
   "execution_count": 5,
   "metadata": {},
   "outputs": [],
   "source": [
    "# !!! Do not forget to re-run this cell and the following one every time you change any path !!!\n",
    "\n",
    "# --------------------  TO BE FILLED BY USER - START  -----------------------------\n",
    "\n",
    "# Main image to be segmented:\n",
    "main_image_path = \"/Users/alberto-mac/EMBL_ATeam/cellpose_training_pipeline/test_images/img1/fused_tp_0_ch_4.tif\"\n",
    "\n",
    "use_dapi_channel_for_segmentation = False\n",
    "\n",
    "# For additional (optional) channels, you can either specify the image paths...\n",
    "dapi_image_path = \"\"\n",
    "extra_ch_1_image_path = \"\"\n",
    "extra_ch_2_image_path = \"\"\n",
    "\n",
    "# ...or you can define some name filters, so that additional channels are automatically found in the same\n",
    "# directory of the main image:\n",
    "filter_main_image = \"_ch_4\"\n",
    "filter_dapi_image = \"_ch_2\"\n",
    "filter_extra_ch_1 = \"_ch_1\"\n",
    "filter_extra_ch_2 = \"\"\n",
    "\n",
    "# If you want, you can also define the extra channel names, for clarity:\n",
    "extra_ch_1_name = \"GFP\"\n",
    "extra_ch_2_name = \"Extra channel 2\"\n",
    "\n",
    "# ---------------------  TO BE FILLED BY USER - END  ------------------------------"
   ]
  },
  {
   "cell_type": "code",
   "execution_count": 6,
   "metadata": {
    "jupyter": {
     "source_hidden": true
    },
    "tags": []
   },
   "outputs": [],
   "source": [
    "# Validate main image:\n",
    "assert os.path.isfile(main_image_path), \"'{}' is not a file!\"\n",
    "\n",
    "\n",
    "def validate_ch_paths(ch_name, ch_path, name_filter):\n",
    "    ch_path = None if ch_path == \"\" else ch_path\n",
    "    name_filter = None if name_filter == \"\" else name_filter\n",
    "    if ch_path is not None:\n",
    "        assert os.path.isfile(ch_path), \"'{}' is not a file!\"\n",
    "    else:\n",
    "        if name_filter is not None:\n",
    "            assert isinstance(filter_main_image, str) and filter_main_image != \"\", \"Please insert a proper filter string for main image\"\n",
    "            assert isinstance(name_filter, str) and name_filter != \"\", \"Please insert a proper filter string for the channel {}\".format(ch_name)\n",
    "            ch_path = main_image_path.replace(filter_main_image, name_filter)\n",
    "            assert os.path.isfile(ch_path), \"'{}' is not a file!\"\n",
    "    return ch_path\n",
    "\n",
    "\n",
    "# Validate DAPI image:\n",
    "dapi_image_path = validate_ch_paths(\"DAPI\", dapi_image_path, filter_dapi_image)\n",
    "if use_dapi_channel_for_segmentation:\n",
    "    assert dapi_image_path is not None\n",
    "\n",
    "# Validate extra channels:\n",
    "extra_ch_1_image_path = validate_ch_paths(extra_ch_1_name, extra_ch_1_image_path, filter_extra_ch_1)\n",
    "extra_ch_2_image_path = validate_ch_paths(extra_ch_2_name, extra_ch_2_image_path, filter_extra_ch_2)\n"
   ]
  },
  {
   "cell_type": "markdown",
   "metadata": {},
   "source": [
    "### 2.2) Modify/create region of interest using Napari\n",
    "After you run the next cell, the selected image will be loaded in Napari. \n",
    "\n",
    "Then select the \"Rectangle\" tool in napari to draw one or more region of interests.\n",
    "\n",
    "After you are done, close the Napari window and run the  the next sections \n",
    "\n",
    "- Select, move, and delete boxes\n",
    "- Insert image of Napari viewer? (Showing the various buttons)\n",
    "\n",
    "![Napari](./napari-screenshot.jpg)"
   ]
  },
  {
   "cell_type": "code",
   "execution_count": 5,
   "metadata": {},
   "outputs": [
    {
     "name": "stdout",
     "output_type": "stream",
     "text": [
      "uint8 6 173\n"
     ]
    },
    {
     "data": {
      "text/plain": [
       "[]"
      ]
     },
     "execution_count": 5,
     "metadata": {},
     "output_type": "execute_result"
    }
   ],
   "source": [
    "from segmfriends.io.images import read_uint8_img\n",
    "import napari\n",
    "\n",
    "# FIXME: remove\n",
    "main_image_path = \"/Users/alberto-mac/EMBL_ATeam/cellpose_training_pipeline/test_images/img1/fused_tp_0_ch_4.tif\"\n",
    "\n",
    "# Load images into memory:\n",
    "main_image = read_uint8_img(main_image_path)\n",
    "\n",
    "# create the viewer and display the image\n",
    "viewer = napari.view_image(main_image, name=\"Main image\")\n",
    "\n",
    "# Load images in napari:\n",
    "s_layer = viewer.add_shapes(name=\"Crops\", shape_type=\"rectangle\", opacity=0.15,  edge_color='#fff01dff', face_color='#f9ffbeff')\n",
    "# draw some rectangles, then inspect\n",
    "s_layer.data"
   ]
  },
  {
   "cell_type": "code",
   "execution_count": 6,
   "metadata": {
    "collapsed": false,
    "jupyter": {
     "outputs_hidden": false
    },
    "pycharm": {
     "name": "#%%\n"
    }
   },
   "outputs": [
    {
     "data": {
      "text/plain": [
       "[array([[ 461.92600267,  663.39119173],\n",
       "        [ 461.92600267, 2062.02415858],\n",
       "        [1160.03468561, 2062.02415858],\n",
       "        [1160.03468561,  663.39119173]]),\n",
       " array([[ 116.49506267, 1820.46406068],\n",
       "        [ 116.49506267, 2603.11877788],\n",
       "        [ 664.83648491, 2603.11877788],\n",
       "        [ 664.83648491, 1820.46406068]])]"
      ]
     },
     "execution_count": 6,
     "metadata": {},
     "output_type": "execute_result"
    }
   ],
   "source": [
    "s_layer.data"
   ]
  },
  {
   "cell_type": "code",
   "execution_count": 7,
   "metadata": {},
   "outputs": [],
   "source": [
    "# create the viewer and display the image\n",
    "\n",
    "# Load images in napari:\n",
    "s_layer_2 = viewer.add_shapes(s_layer.data, name=\"Crops 2\", shape_type=\"rectangle\", opacity=0.15,  edge_color='#fff01dff', face_color='#f9ffbeff')\n",
    "\n"
   ]
  },
  {
   "cell_type": "code",
   "execution_count": 11,
   "metadata": {},
   "outputs": [
    {
     "data": {
      "application/vnd.jupyter.widget-view+json": {
       "model_id": "518d98ae724f40dd94abfa0d639ceddc",
       "version_major": 2,
       "version_minor": 0
      },
      "text/plain": [
       "HBox(children=(VBox(children=(IntSlider(value=0, description='a'), IntSlider(value=0, description='b'), IntSli…"
      ]
     },
     "metadata": {},
     "output_type": "display_data"
    }
   ],
   "source": [
    "\n",
    "\n",
    "global a1\n",
    "a = widgets.IntSlider(description='a')\n",
    "b = widgets.IntSlider(description='b')\n",
    "c = widgets.IntSlider(description='c')\n",
    "\n",
    "\n",
    "def f(a, b, c):\n",
    "    print('{}*{}*{}={}'.format(a, b, c, a * b * c))\n",
    "\n",
    "\n",
    "out = widgets.interactive_output(f, {'a': a, 'b': b, 'c': c})\n",
    "\n",
    "widgets.HBox([widgets.VBox([a, b, c]), out])"
   ]
  },
  {
   "cell_type": "code",
   "execution_count": null,
   "metadata": {},
   "outputs": [],
   "source": [
    "img_main = widgets.Text(\n",
    "    value='',\n",
    "    placeholder='Enter directory path',\n",
    "    disabled=False\n",
    ")\n",
    "\n",
    "widgets.HBox([widgets.VBox([a, b, c]), out])"
   ]
  },
  {
   "cell_type": "code",
   "execution_count": 8,
   "metadata": {},
   "outputs": [
    {
     "name": "stdout",
     "output_type": "stream",
     "text": [
      "42\n"
     ]
    }
   ],
   "source": [
    "print(a.value)"
   ]
  },
  {
   "cell_type": "code",
   "execution_count": 12,
   "metadata": {},
   "outputs": [
    {
     "data": {
      "application/vnd.jupyter.widget-view+json": {
       "model_id": "31de198250f84492bc87284814ed1ba8",
       "version_major": 2,
       "version_minor": 0
      },
      "text/plain": [
       "Label(value='The selected .')"
      ]
     },
     "metadata": {},
     "output_type": "display_data"
    },
    {
     "data": {
      "application/vnd.jupyter.widget-view+json": {
       "model_id": "3d597ec7ac1d4c7983d8fb2830d95434",
       "version_major": 2,
       "version_minor": 0
      },
      "text/plain": [
       "IntSlider(value=1, description='Slider', max=5, min=-5)"
      ]
     },
     "metadata": {},
     "output_type": "display_data"
    }
   ],
   "source": [
    "\n",
    "caption = widgets.Label(value='The selected .')\n",
    "slider = widgets.IntSlider(min=-5, max=5, value=1, description='Slider')\n",
    "\n",
    "\n",
    "def handle_slider_change(change):\n",
    "    caption.value = 'The slider value is ' + (\n",
    "        'negative' if change.new < 0 else 'nonnegative'\n",
    "    )\n",
    "\n",
    "\n",
    "slider.observe(handle_slider_change, names='value')\n",
    "\n",
    "display(caption, slider)"
   ]
  },
  {
   "cell_type": "code",
   "execution_count": 13,
   "metadata": {},
   "outputs": [
    {
     "data": {
      "application/vnd.jupyter.widget-view+json": {
       "model_id": "21e3b17dbde84a0c919a00f18fd7e8c4",
       "version_major": 2,
       "version_minor": 0
      },
      "text/plain": [
       "IntSlider(value=0)"
      ]
     },
     "metadata": {},
     "output_type": "display_data"
    },
    {
     "data": {
      "application/vnd.jupyter.widget-view+json": {
       "model_id": "6c95084c699244899c343b0ed409e5eb",
       "version_major": 2,
       "version_minor": 0
      },
      "text/plain": [
       "Output()"
      ]
     },
     "metadata": {},
     "output_type": "display_data"
    }
   ],
   "source": [
    "int_range = widgets.IntSlider()\n",
    "output2 = widgets.Output()\n",
    "\n",
    "display(int_range, output2)\n",
    "\n",
    "\n",
    "def on_value_change(change):\n",
    "    with output2:\n",
    "        print(change['new'])\n",
    "\n",
    "\n",
    "int_range.observe(on_value_change, names='value')"
   ]
  },
  {
   "cell_type": "code",
   "execution_count": 14,
   "metadata": {},
   "outputs": [
    {
     "name": "stdout",
     "output_type": "stream",
     "text": [
      "Selected project directory: /Users/alberto-mac/EMBL_ATeam/cellpose_training_pipeline/test_project\n"
     ]
    }
   ],
   "source": [
    "import os\n",
    "\n",
    "proj_dir = fileselect.directory\n",
    "assert os.path.isdir(proj_dir), \"You did not select one single project directory!\"\n",
    "print(\"Selected project directory: {}\".format(proj_dir))"
   ]
  },
  {
   "cell_type": "code",
   "execution_count": 1,
   "metadata": {},
   "outputs": [],
   "source": [
    "#@markdown ###Path to training images:\n",
    "\n",
    "Training_source = \"\"  #@param {type:\"string\"}\n",
    "Training_target = \"\"  #@param {type:\"string\"}"
   ]
  },
  {
   "cell_type": "code",
   "execution_count": 2,
   "metadata": {},
   "outputs": [
    {
     "name": "stderr",
     "output_type": "stream",
     "text": [
      "Exception in Tkinter callback\n",
      "Traceback (most recent call last):\n",
      "  File \"/Users/alberto-mac/miniconda3/envs/nifty/lib/python3.8/tkinter/__init__.py\", line 1892, in __call__\n",
      "    return self.func(*args)\n",
      "  File \"/var/folders/xw/tcy65hq13818_4913hhp666h0000gq/T/ipykernel_14966/967351048.py\", line 31, in openfile\n",
      "    E1.delete(0, END)\n",
      "NameError: name 'E1' is not defined\n",
      "Exception in Tkinter callback\n",
      "Traceback (most recent call last):\n",
      "  File \"/Users/alberto-mac/miniconda3/envs/nifty/lib/python3.8/tkinter/__init__.py\", line 1892, in __call__\n",
      "    return self.func(*args)\n",
      "  File \"/var/folders/xw/tcy65hq13818_4913hhp666h0000gq/T/ipykernel_14966/967351048.py\", line 31, in openfile\n",
      "    E1.delete(0, END)\n",
      "NameError: name 'E1' is not defined\n"
     ]
    }
   ],
   "source": [
    "from tkinter import *\n",
    "from tkinter import ttk\n",
    "from tkinter import filedialog\n",
    "\n",
    "\n",
    "def main():\n",
    "    self = Tk()\n",
    "\n",
    "    F1 = LabelFrame(self, text=\"Select File\")\n",
    "    F1.grid(row=0, column=0, padx=3)\n",
    "\n",
    "    browse = Button(F1, text=\"Browse...\", command=openfile)\n",
    "    browse.grid(row=0, column=2, padx=1, pady=3)\n",
    "\n",
    "    E1 = Entry(F1, text=\"\")\n",
    "    E1.grid(row=0, column=1, sticky=\"ew\")\n",
    "\n",
    "    L1 = Label(F1, text=\"Filename:\")\n",
    "    L1.grid(row=0, column=0, padx=3)\n",
    "\n",
    "    B1 = Button(F1, text=\"Use This File\", command=go)\n",
    "    B1.grid(row=1, column=2, padx=3, pady=3)\n",
    "\n",
    "    B2 = Button(F1, text=\"Cancel\", width=7)\n",
    "    B2.grid(row=1, column=1, sticky=\"e\")\n",
    "\n",
    "    self.mainloop()\n",
    "\n",
    "\n",
    "def openfile():\n",
    "    global filename\n",
    "    filename = filedialog.askopenfilename()\n",
    "    E1.delete(0, END)\n",
    "    E1.insert(0, filename)\n",
    "\n",
    "\n",
    "def go():\n",
    "    global filename\n",
    "    file = open(filename)\n",
    "    file_content = file.read()\n",
    "    print(file_content)\n",
    "    file.close()\n",
    "\n",
    "\n",
    "main()"
   ]
  },
  {
   "cell_type": "code",
   "execution_count": null,
   "metadata": {},
   "outputs": [],
   "source": []
  }
 ],
 "metadata": {
  "kernelspec": {
   "display_name": "Python 3 (ipykernel)",
   "language": "python",
   "name": "python3"
  },
  "language_info": {
   "codemirror_mode": {
    "name": "ipython",
    "version": 3
   },
   "file_extension": ".py",
   "mimetype": "text/x-python",
   "name": "python",
   "nbconvert_exporter": "python",
   "pygments_lexer": "ipython3",
   "version": "3.8.12"
  }
 },
 "nbformat": 4,
 "nbformat_minor": 4
}